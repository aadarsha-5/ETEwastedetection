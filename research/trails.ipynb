{
 "cells": [
  {
   "cell_type": "code",
   "execution_count": 116,
   "metadata": {},
   "outputs": [],
   "source": [
    "import gdown"
   ]
  },
  {
   "cell_type": "code",
   "execution_count": 143,
   "metadata": {},
   "outputs": [
    {
     "name": "stdout",
     "output_type": "stream",
     "text": [
      "Note: you may need to restart the kernel to use updated packages.Requirement already up-to-date: gdown in c:\\users\\acer\\miniconda2\\envs\\waste\\lib\\site-packages (4.7.1)\n",
      "Requirement already satisfied, skipping upgrade: filelock in c:\\users\\acer\\miniconda2\\envs\\waste\\lib\\site-packages (from gdown) (3.12.2)\n",
      "Requirement already satisfied, skipping upgrade: beautifulsoup4 in c:\\users\\acer\\miniconda2\\envs\\waste\\lib\\site-packages (from gdown) (4.12.2)\n",
      "Requirement already satisfied, skipping upgrade: tqdm in c:\\users\\acer\\miniconda2\\envs\\waste\\lib\\site-packages (from gdown) (4.66.1)\n",
      "Requirement already satisfied, skipping upgrade: six in c:\\users\\acer\\miniconda2\\envs\\waste\\lib\\site-packages (from gdown) (1.16.0)\n",
      "Requirement already satisfied, skipping upgrade: requests[socks] in c:\\users\\acer\\miniconda2\\envs\\waste\\lib\\site-packages (from gdown) (2.31.0)\n",
      "Requirement already satisfied, skipping upgrade: soupsieve>1.2 in c:\\users\\acer\\miniconda2\\envs\\waste\\lib\\site-packages (from beautifulsoup4->gdown) (2.4.1)\n",
      "Requirement already satisfied, skipping upgrade: colorama; platform_system == \"Windows\" in c:\\users\\acer\\miniconda2\\envs\\waste\\lib\\site-packages (from tqdm->gdown) (0.4.6)\n",
      "Requirement already satisfied, skipping upgrade: idna<4,>=2.5 in c:\\users\\acer\\miniconda2\\envs\\waste\\lib\\site-packages (from requests[socks]->gdown) (3.6)\n",
      "Requirement already satisfied, skipping upgrade: urllib3<3,>=1.21.1 in c:\\users\\acer\\miniconda2\\envs\\waste\\lib\\site-packages (from requests[socks]->gdown) (2.0.7)\n",
      "Requirement already satisfied, skipping upgrade: charset-normalizer<4,>=2 in c:\\users\\acer\\miniconda2\\envs\\waste\\lib\\site-packages (from requests[socks]->gdown) (3.3.2)\n",
      "Requirement already satisfied, skipping upgrade: certifi>=2017.4.17 in c:\\users\\acer\\miniconda2\\envs\\waste\\lib\\site-packages (from requests[socks]->gdown) (2022.12.7)\n",
      "Requirement already satisfied, skipping upgrade: PySocks!=1.5.7,>=1.5.6; extra == \"socks\" in c:\\users\\acer\\miniconda2\\envs\\waste\\lib\\site-packages (from requests[socks]->gdown) (1.7.1)\n",
      "\n"
     ]
    },
    {
     "name": "stderr",
     "output_type": "stream",
     "text": [
      "The system cannot find the path specified.\n"
     ]
    }
   ],
   "source": [
    "pip install --upgrade --no-cache-dir gdown"
   ]
  },
  {
   "cell_type": "code",
   "execution_count": 140,
   "metadata": {},
   "outputs": [],
   "source": [
    "import os"
   ]
  },
  {
   "cell_type": "code",
   "execution_count": 141,
   "metadata": {},
   "outputs": [],
   "source": [
    "os.chdir(\"../\")"
   ]
  },
  {
   "cell_type": "code",
   "execution_count": 135,
   "metadata": {},
   "outputs": [
    {
     "data": {
      "text/plain": [
       "'c:\\\\'"
      ]
     },
     "execution_count": 135,
     "metadata": {},
     "output_type": "execute_result"
    }
   ],
   "source": [
    "%pwd"
   ]
  },
  {
   "cell_type": "code",
   "execution_count": 136,
   "metadata": {},
   "outputs": [],
   "source": [
    "url =\"https://drive.google.com/file/d/1pu-udWLn4pEyzEFT6lIngZfYfBTk5hya/view?usp=sharing\""
   ]
  },
  {
   "cell_type": "code",
   "execution_count": 137,
   "metadata": {},
   "outputs": [
    {
     "data": {
      "text/plain": [
       "'1pu-udWLn4pEyzEFT6lIngZfYfBTk5hya'"
      ]
     },
     "execution_count": 137,
     "metadata": {},
     "output_type": "execute_result"
    }
   ],
   "source": [
    "file_id = url.split(\"/\")[-2]\n",
    "file_id"
   ]
  },
  {
   "cell_type": "code",
   "execution_count": 142,
   "metadata": {},
   "outputs": [
    {
     "name": "stdout",
     "output_type": "stream",
     "text": [
      "Access denied with the following error:\n"
     ]
    },
    {
     "name": "stderr",
     "output_type": "stream",
     "text": [
      "\n",
      " \tCannot retrieve the public link of the file. You may need to change\n",
      "\tthe permission to 'Anyone with the link', or have had many accesses. \n",
      "\n",
      "You may still be able to access the file from the browser:\n",
      "\n",
      "\t https://drive.google.com/uc?export=download&id=1pu-udWLn4pEyzEFT6lIngZfYfBTk5hya \n",
      "\n"
     ]
    }
   ],
   "source": [
    "prefix = 'https://drive.google.com/uc?export=download&id='\n",
    "gdown.download(prefix+file_id, \"data/waste_data.zip\")"
   ]
  },
  {
   "cell_type": "code",
   "execution_count": null,
   "metadata": {},
   "outputs": [],
   "source": []
  },
  {
   "cell_type": "code",
   "execution_count": null,
   "metadata": {},
   "outputs": [],
   "source": []
  }
 ],
 "metadata": {
  "kernelspec": {
   "display_name": "waste",
   "language": "python",
   "name": "python3"
  },
  "language_info": {
   "codemirror_mode": {
    "name": "ipython",
    "version": 3
   },
   "file_extension": ".py",
   "mimetype": "text/x-python",
   "name": "python",
   "nbconvert_exporter": "python",
   "pygments_lexer": "ipython3",
   "version": "3.7.16"
  }
 },
 "nbformat": 4,
 "nbformat_minor": 2
}
